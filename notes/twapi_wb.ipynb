{
 "cells": [
  {
   "cell_type": "code",
   "execution_count": 25,
   "id": "d346dab6",
   "metadata": {},
   "outputs": [
    {
     "name": "stdout",
     "output_type": "stream",
     "text": [
      "200\n"
     ]
    }
   ],
   "source": [
    "import requests\n",
    "import os\n",
    "import json\n",
    "import plotly.graph_objs as go\n",
    "import requests\n",
    "from bs4 import BeautifulSoup\n",
    "import pandas as pd\n",
    "import datetime\n",
    "\n",
    "\n",
    "bearer_token = \"AAAAAAAAAAAAAAAAAAAAAC2eYQEAAAAA1idxHQ1U4YFvQO2kiDSrOlW2GRI%3DAFAvR8Gb8M6CjKEJMzFdlY37o1tb1QzHUZ1OgLwTbWu7GLKap0\"\n",
    "search_url = \"https://api.twitter.com/2/tweets/search/recent\"\n",
    "query_params = {'query': '#collectiveashbery','tweet.fields': 'author_id','user.fields': 'location', 'max_results': 25}\n",
    "\n",
    "\n",
    "def bearer_oauth(r):\n",
    "    \"\"\"\n",
    "    Method required by bearer token authentication.\n",
    "    \"\"\"\n",
    "\n",
    "    r.headers[\"Authorization\"] = f\"Bearer {bearer_token}\"\n",
    "    r.headers[\"User-Agent\"] = \"v2RecentSearchPython\"\n",
    "    return r\n",
    "\n",
    "def connect_to_endpoint(url, params):\n",
    "    response = requests.get(url, auth=bearer_oauth, params=params)\n",
    "    print(response.status_code)\n",
    "    if response.status_code != 200:\n",
    "        raise Exception(response.status_code, response.text)\n",
    "    return response.json()\n",
    "\n",
    "def main():\n",
    "    json_response = connect_to_endpoint(search_url, query_params) \n",
    "    #print(json.dumps(json_response, indent=4, sort_keys=True))\n",
    "    tweetdict = json_response[\"data\"]\n",
    "    tweetdf = pd.DataFrame(tweetdict)\n",
    "    #tweetdf.to_html(\"tester.html\")\n",
    "    \n",
    "    #set up table\n",
    "    data=go.Table(columnwidth = [200,200,1000],\n",
    "                    header=dict(values=tweetdf.columns, align=['left']),\n",
    "                    cells=dict(align=['left'],\n",
    "                               values=[tweetdf['author_id'].values,\n",
    "                                       tweetdf['id'].values,\n",
    "                                       tweetdf['text'].values])\n",
    "                 )\n",
    "    fig = go.Figure([data])\n",
    "    #fig.write_html(\"fig_test.html\")\n",
    "    return fig\n",
    "                \n",
    "                                                                                                                                                                                                                            \n",
    "if __name__ == \"__main__\":\n",
    "    main()\n"
   ]
  },
  {
   "cell_type": "code",
   "execution_count": null,
   "id": "585d9a8f",
   "metadata": {},
   "outputs": [],
   "source": []
  },
  {
   "cell_type": "code",
   "execution_count": null,
   "id": "7967f5a3",
   "metadata": {},
   "outputs": [],
   "source": []
  }
 ],
 "metadata": {
  "kernelspec": {
   "display_name": "Python 3 (ipykernel)",
   "language": "python",
   "name": "python3"
  },
  "language_info": {
   "codemirror_mode": {
    "name": "ipython",
    "version": 3
   },
   "file_extension": ".py",
   "mimetype": "text/x-python",
   "name": "python",
   "nbconvert_exporter": "python",
   "pygments_lexer": "ipython3",
   "version": "3.9.7"
  }
 },
 "nbformat": 4,
 "nbformat_minor": 5
}
